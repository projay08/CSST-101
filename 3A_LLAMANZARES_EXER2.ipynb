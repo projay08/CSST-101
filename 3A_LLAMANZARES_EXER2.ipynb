{
  "nbformat": 4,
  "nbformat_minor": 0,
  "metadata": {
    "colab": {
      "provenance": []
    },
    "kernelspec": {
      "name": "python3",
      "display_name": "Python 3"
    },
    "language_info": {
      "name": "python"
    }
  },
  "cells": [
    {
      "cell_type": "code",
      "source": [
        "  def joint_probability(p_A, p_B):\n",
        "   return p_A * p_B\n",
        "\n",
        "  def marginal_probability(p_A, p_B):\n",
        "    return p_A + p_B - joint_probability(p_A, p_B)\n",
        "\n",
        "  def conditional_probability(p_B_given_A, p_A, p_B):\n",
        "    return(p_B_given_A * p_A) / p_B\n",
        "\n",
        "\n",
        "  p_A = 0.3\n",
        "  p_B = 0.4\n",
        "  p_B_given_A = 0.8\n",
        "\n",
        "  print(f\"Joint Probability: {joint_probability(p_A, p_B)}\")\n",
        "  print(f\"Marginal Probability: {marginal_probability(p_A, p_B)}\")\n",
        "  print(f\"Conditional Probability{conditional_probability(p_B_given_A, p_A, p_B)}\")\n"
      ],
      "metadata": {
        "id": "9b_GkYkk_Clr",
        "colab": {
          "base_uri": "https://localhost:8080/"
        },
        "outputId": "b1aa5d2a-0d9c-4f57-9cac-beec777cc88e"
      },
      "execution_count": 2,
      "outputs": [
        {
          "output_type": "stream",
          "name": "stdout",
          "text": [
            "Joint Probability: 0.12\n",
            "Marginal Probability: 0.58\n",
            "Conditional Probability0.6\n"
          ]
        }
      ]
    },
    {
      "cell_type": "markdown",
      "source": [
        "Exercise 2\n"
      ],
      "metadata": {
        "id": "MQG5hHQNSmLB"
      }
    },
    {
      "cell_type": "code",
      "source": [
        "import numpy as np"
      ],
      "metadata": {
        "id": "o_wmm7dJDaaq"
      },
      "execution_count": 3,
      "outputs": []
    },
    {
      "cell_type": "code",
      "source": [
        "\n",
        "def simulate_decision(num_simulations, p_success, reward_success, reward_failure):\n",
        "    outcomes = []\n",
        "\n",
        "    for _ in range(num_simulations):\n",
        "        if np.random.rand() < p_success:\n",
        "            outcomes.append(reward_success)\n",
        "        else:\n",
        "            outcomes.append(reward_failure)\n",
        "\n",
        "    return np.mean(outcomes)\n",
        "\n",
        "p_success = 0.7\n",
        "reward_success = 1000\n",
        "reward_failure = -500\n",
        "\n",
        "average_outcome = simulate_decision(1000, p_success, reward_success, reward_failure)\n",
        "print(f\"Expected Value of decision: {average_outcome}\")"
      ],
      "metadata": {
        "id": "JN8Yxg46DtSd",
        "colab": {
          "base_uri": "https://localhost:8080/"
        },
        "outputId": "871b7311-9612-45a6-cb32-f633f6491e60"
      },
      "execution_count": 7,
      "outputs": [
        {
          "output_type": "stream",
          "name": "stdout",
          "text": [
            "Expected Value of decision: 544.0\n"
          ]
        }
      ]
    },
    {
      "cell_type": "markdown",
      "source": [
        "Exercise 3"
      ],
      "metadata": {
        "id": "Cj9QS7xWYpXN"
      }
    },
    {
      "cell_type": "code",
      "source": [
        "def bayesian_inference(prior, likelihood_positive_given_disease, likelihood_positive):\n",
        "    posterior = (likelihood_positive_given_disease * prior) / likelihood_positive  # Assign the result to 'posterior'\n",
        "    return posterior\n",
        "\n",
        "prior_disease = 0.01\n",
        "likelihood_positive_given_disease = 0.9\n",
        "likelihood_positive = 0.05\n",
        "\n",
        "posterior_disease = bayesian_inference(prior_disease, likelihood_positive_given_disease, likelihood_positive)\n",
        "print(f\"Posterior Probability of disease given positive test{posterior_disease}\")"
      ],
      "metadata": {
        "colab": {
          "base_uri": "https://localhost:8080/"
        },
        "id": "hPEsOiLWUDgV",
        "outputId": "3a42d575-7af2-48c9-c616-d39ae70d3ff3"
      },
      "execution_count": null,
      "outputs": [
        {
          "output_type": "stream",
          "name": "stdout",
          "text": [
            "Posterior Probability of disease given positive test0.18000000000000002\n"
          ]
        }
      ]
    },
    {
      "cell_type": "markdown",
      "source": [
        "EXERCISE 4"
      ],
      "metadata": {
        "id": "KEm-3BbnaR00"
      }
    },
    {
      "cell_type": "code",
      "source": [
        "import numpy as np\n",
        "import matplotlib.pyplot as plt"
      ],
      "metadata": {
        "id": "--OFE_4JaTaT"
      },
      "execution_count": null,
      "outputs": []
    },
    {
      "cell_type": "code",
      "source": [
        "n_trials = 1000\n",
        "p_head = 0.5\n",
        "binomial_distribution =np.random.binomial(n=1, p = p_head, size = n_trials)\n",
        "\n",
        "plt.hist(binomial_distribution, bins=2)\n",
        "plt.title(\"Binomial Distribution(coin Flips)\")\n",
        "plt.show()"
      ],
      "metadata": {
        "colab": {
          "base_uri": "https://localhost:8080/",
          "height": 452
        },
        "id": "w96-vp7gaf2z",
        "outputId": "1a69081f-3627-401b-cca4-ba82dfd94763"
      },
      "execution_count": null,
      "outputs": [
        {
          "output_type": "display_data",
          "data": {
            "text/plain": [
              "<Figure size 640x480 with 1 Axes>"
            ],
            "image/png": "[encoded data removed]"
          },
          "metadata": {}
        }
      ]
    },
    {
      "cell_type": "markdown",
      "source": [
        "Exercise 5"
      ],
      "metadata": {
        "id": "88z-DsRpbJIB"
      }
    },
    {
      "cell_type": "code",
      "source": [
        "p_purchase_given_cart = 0.4\n",
        "p_cart = 0.3\n",
        "\n",
        "p_purchase =conditional_probability(p_purchase_given_cart, p_cart, 1)\n",
        "print(f\"Probability of purchase: {p_purchase}\")"
      ],
      "metadata": {
        "colab": {
          "base_uri": "https://localhost:8080/"
        },
        "id": "LmBl2Pabbdq6",
        "outputId": "1ce12eee-1b18-4fee-d19c-033c3fd1e475"
      },
      "execution_count": null,
      "outputs": [
        {
          "output_type": "stream",
          "name": "stdout",
          "text": [
            "Probability of purchase: 0.12\n"
          ]
        }
      ]
    }
  ]
}