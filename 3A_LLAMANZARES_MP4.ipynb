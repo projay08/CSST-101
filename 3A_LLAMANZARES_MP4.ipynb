{
  "nbformat": 4,
  "nbformat_minor": 0,
  "metadata": {
    "colab": {
      "provenance": []
    },
    "kernelspec": {
      "name": "python3",
      "display_name": "Python 3"
    },
    "language_info": {
      "name": "python"
    }
  },
  "cells": [
    {
      "cell_type": "markdown",
      "source": [
        "#EXERCISE 1"
      ],
      "metadata": {
        "id": "K2ktqkFR71zw"
      }
    },
    {
      "cell_type": "code",
      "execution_count": 1,
      "metadata": {
        "id": "oDeDELxj70cI",
        "colab": {
          "base_uri": "https://localhost:8080/"
        },
        "outputId": "f1da7dcb-5dc5-4241-9d5d-671804eff899",
        "collapsed": true
      },
      "outputs": [
        {
          "output_type": "stream",
          "name": "stdout",
          "text": [
            "Collecting pgmpy\n",
            "  Downloading pgmpy-0.1.26-py3-none-any.whl.metadata (9.1 kB)\n",
            "Requirement already satisfied: networkx in /usr/local/lib/python3.10/dist-packages (from pgmpy) (3.4.2)\n",
            "Requirement already satisfied: numpy in /usr/local/lib/python3.10/dist-packages (from pgmpy) (1.26.4)\n",
            "Requirement already satisfied: scipy in /usr/local/lib/python3.10/dist-packages (from pgmpy) (1.13.1)\n",
            "Requirement already satisfied: scikit-learn in /usr/local/lib/python3.10/dist-packages (from pgmpy) (1.5.2)\n",
            "Requirement already satisfied: pandas in /usr/local/lib/python3.10/dist-packages (from pgmpy) (2.2.2)\n",
            "Requirement already satisfied: pyparsing in /usr/local/lib/python3.10/dist-packages (from pgmpy) (3.2.0)\n",
            "Requirement already satisfied: torch in /usr/local/lib/python3.10/dist-packages (from pgmpy) (2.5.0+cu121)\n",
            "Requirement already satisfied: statsmodels in /usr/local/lib/python3.10/dist-packages (from pgmpy) (0.14.4)\n",
            "Requirement already satisfied: tqdm in /usr/local/lib/python3.10/dist-packages (from pgmpy) (4.66.5)\n",
            "Requirement already satisfied: joblib in /usr/local/lib/python3.10/dist-packages (from pgmpy) (1.4.2)\n",
            "Requirement already satisfied: opt-einsum in /usr/local/lib/python3.10/dist-packages (from pgmpy) (3.4.0)\n",
            "Requirement already satisfied: xgboost in /usr/local/lib/python3.10/dist-packages (from pgmpy) (2.1.2)\n",
            "Requirement already satisfied: google-generativeai in /usr/local/lib/python3.10/dist-packages (from pgmpy) (0.8.3)\n",
            "Requirement already satisfied: google-ai-generativelanguage==0.6.10 in /usr/local/lib/python3.10/dist-packages (from google-generativeai->pgmpy) (0.6.10)\n",
            "Requirement already satisfied: google-api-core in /usr/local/lib/python3.10/dist-packages (from google-generativeai->pgmpy) (2.19.2)\n",
            "Requirement already satisfied: google-api-python-client in /usr/local/lib/python3.10/dist-packages (from google-generativeai->pgmpy) (2.137.0)\n",
            "Requirement already satisfied: google-auth>=2.15.0 in /usr/local/lib/python3.10/dist-packages (from google-generativeai->pgmpy) (2.27.0)\n",
            "Requirement already satisfied: protobuf in /usr/local/lib/python3.10/dist-packages (from google-generativeai->pgmpy) (3.20.3)\n",
            "Requirement already satisfied: pydantic in /usr/local/lib/python3.10/dist-packages (from google-generativeai->pgmpy) (2.9.2)\n",
            "Requirement already satisfied: typing-extensions in /usr/local/lib/python3.10/dist-packages (from google-generativeai->pgmpy) (4.12.2)\n",
            "Requirement already satisfied: proto-plus<2.0.0dev,>=1.22.3 in /usr/local/lib/python3.10/dist-packages (from google-ai-generativelanguage==0.6.10->google-generativeai->pgmpy) (1.25.0)\n",
            "Requirement already satisfied: python-dateutil>=2.8.2 in /usr/local/lib/python3.10/dist-packages (from pandas->pgmpy) (2.8.2)\n",
            "Requirement already satisfied: pytz>=2020.1 in /usr/local/lib/python3.10/dist-packages (from pandas->pgmpy) (2024.2)\n",
            "Requirement already satisfied: tzdata>=2022.7 in /usr/local/lib/python3.10/dist-packages (from pandas->pgmpy) (2024.2)\n",
            "Requirement already satisfied: threadpoolctl>=3.1.0 in /usr/local/lib/python3.10/dist-packages (from scikit-learn->pgmpy) (3.5.0)\n",
            "Requirement already satisfied: patsy>=0.5.6 in /usr/local/lib/python3.10/dist-packages (from statsmodels->pgmpy) (0.5.6)\n",
            "Requirement already satisfied: packaging>=21.3 in /usr/local/lib/python3.10/dist-packages (from statsmodels->pgmpy) (24.1)\n",
            "Requirement already satisfied: filelock in /usr/local/lib/python3.10/dist-packages (from torch->pgmpy) (3.16.1)\n",
            "Requirement already satisfied: jinja2 in /usr/local/lib/python3.10/dist-packages (from torch->pgmpy) (3.1.4)\n",
            "Requirement already satisfied: fsspec in /usr/local/lib/python3.10/dist-packages (from torch->pgmpy) (2024.6.1)\n",
            "Requirement already satisfied: sympy==1.13.1 in /usr/local/lib/python3.10/dist-packages (from torch->pgmpy) (1.13.1)\n",
            "Requirement already satisfied: mpmath<1.4,>=1.1.0 in /usr/local/lib/python3.10/dist-packages (from sympy==1.13.1->torch->pgmpy) (1.3.0)\n",
            "Requirement already satisfied: nvidia-nccl-cu12 in /usr/local/lib/python3.10/dist-packages (from xgboost->pgmpy) (2.23.4)\n",
            "Requirement already satisfied: googleapis-common-protos<2.0.dev0,>=1.56.2 in /usr/local/lib/python3.10/dist-packages (from google-api-core->google-generativeai->pgmpy) (1.65.0)\n",
            "Requirement already satisfied: requests<3.0.0.dev0,>=2.18.0 in /usr/local/lib/python3.10/dist-packages (from google-api-core->google-generativeai->pgmpy) (2.32.3)\n",
            "Requirement already satisfied: cachetools<6.0,>=2.0.0 in /usr/local/lib/python3.10/dist-packages (from google-auth>=2.15.0->google-generativeai->pgmpy) (5.5.0)\n",
            "Requirement already satisfied: pyasn1-modules>=0.2.1 in /usr/local/lib/python3.10/dist-packages (from google-auth>=2.15.0->google-generativeai->pgmpy) (0.4.1)\n",
            "Requirement already satisfied: rsa<5,>=3.1.4 in /usr/local/lib/python3.10/dist-packages (from google-auth>=2.15.0->google-generativeai->pgmpy) (4.9)\n",
            "Requirement already satisfied: six in /usr/local/lib/python3.10/dist-packages (from patsy>=0.5.6->statsmodels->pgmpy) (1.16.0)\n",
            "Requirement already satisfied: httplib2<1.dev0,>=0.19.0 in /usr/local/lib/python3.10/dist-packages (from google-api-python-client->google-generativeai->pgmpy) (0.22.0)\n",
            "Requirement already satisfied: google-auth-httplib2<1.0.0,>=0.2.0 in /usr/local/lib/python3.10/dist-packages (from google-api-python-client->google-generativeai->pgmpy) (0.2.0)\n",
            "Requirement already satisfied: uritemplate<5,>=3.0.1 in /usr/local/lib/python3.10/dist-packages (from google-api-python-client->google-generativeai->pgmpy) (4.1.1)\n",
            "Requirement already satisfied: MarkupSafe>=2.0 in /usr/local/lib/python3.10/dist-packages (from jinja2->torch->pgmpy) (3.0.2)\n",
            "Requirement already satisfied: annotated-types>=0.6.0 in /usr/local/lib/python3.10/dist-packages (from pydantic->google-generativeai->pgmpy) (0.7.0)\n",
            "Requirement already satisfied: pydantic-core==2.23.4 in /usr/local/lib/python3.10/dist-packages (from pydantic->google-generativeai->pgmpy) (2.23.4)\n",
            "Requirement already satisfied: grpcio<2.0dev,>=1.33.2 in /usr/local/lib/python3.10/dist-packages (from google-api-core[grpc]!=2.0.*,!=2.1.*,!=2.10.*,!=2.2.*,!=2.3.*,!=2.4.*,!=2.5.*,!=2.6.*,!=2.7.*,!=2.8.*,!=2.9.*,<3.0.0dev,>=1.34.1->google-ai-generativelanguage==0.6.10->google-generativeai->pgmpy) (1.64.1)\n",
            "Requirement already satisfied: grpcio-status<2.0.dev0,>=1.33.2 in /usr/local/lib/python3.10/dist-packages (from google-api-core[grpc]!=2.0.*,!=2.1.*,!=2.10.*,!=2.2.*,!=2.3.*,!=2.4.*,!=2.5.*,!=2.6.*,!=2.7.*,!=2.8.*,!=2.9.*,<3.0.0dev,>=1.34.1->google-ai-generativelanguage==0.6.10->google-generativeai->pgmpy) (1.48.2)\n",
            "Requirement already satisfied: pyasn1<0.7.0,>=0.4.6 in /usr/local/lib/python3.10/dist-packages (from pyasn1-modules>=0.2.1->google-auth>=2.15.0->google-generativeai->pgmpy) (0.6.1)\n",
            "Requirement already satisfied: charset-normalizer<4,>=2 in /usr/local/lib/python3.10/dist-packages (from requests<3.0.0.dev0,>=2.18.0->google-api-core->google-generativeai->pgmpy) (3.4.0)\n",
            "Requirement already satisfied: idna<4,>=2.5 in /usr/local/lib/python3.10/dist-packages (from requests<3.0.0.dev0,>=2.18.0->google-api-core->google-generativeai->pgmpy) (3.10)\n",
            "Requirement already satisfied: urllib3<3,>=1.21.1 in /usr/local/lib/python3.10/dist-packages (from requests<3.0.0.dev0,>=2.18.0->google-api-core->google-generativeai->pgmpy) (2.2.3)\n",
            "Requirement already satisfied: certifi>=2017.4.17 in /usr/local/lib/python3.10/dist-packages (from requests<3.0.0.dev0,>=2.18.0->google-api-core->google-generativeai->pgmpy) (2024.8.30)\n",
            "Downloading pgmpy-0.1.26-py3-none-any.whl (2.0 MB)\n",
            "\u001b[2K   \u001b[90m━━━━━━━━━━━━━━━━━━━━━━━━━━━━━━━━━━━━━━━━\u001b[0m \u001b[32m2.0/2.0 MB\u001b[0m \u001b[31m15.9 MB/s\u001b[0m eta \u001b[36m0:00:00\u001b[0m\n",
            "\u001b[?25hInstalling collected packages: pgmpy\n",
            "Successfully installed pgmpy-0.1.26\n"
          ]
        }
      ],
      "source": [
        "!pip install pgmpy\n",
        "\n",
        "from pgmpy.models import BayesianNetwork\n",
        "from pgmpy.factors.discrete import TabularCPD\n",
        "from pgmpy.inference import VariableElimination\n",
        "import pandas as pd\n",
        "import matplotlib.pyplot as plt\n",
        "import networkx as nx"
      ]
    },
    {
      "cell_type": "markdown",
      "source": [
        "#EXERCISE 2"
      ],
      "metadata": {
        "id": "WCduc9IH85Vc"
      }
    },
    {
      "cell_type": "code",
      "source": [
        "model = BayesianNetwork([\n",
        "    ('Age', 'Heart Disease'),\n",
        "    ('Smoking', 'Heart Disease'),\n",
        "    ('Exercise', 'Heart Disease'),\n",
        "    ('Cholesterol', 'Heart Disease'),\n",
        "    ('Blood Pressure', 'Heart Disease'),\n",
        "    ('Heart Disease', 'Chest Pain'),\n",
        "    ('Heart Disease', 'ECG Result')\n",
        "])"
      ],
      "metadata": {
        "id": "cmGctgm-75Ys"
      },
      "execution_count": 5,
      "outputs": []
    },
    {
      "cell_type": "markdown",
      "source": [
        "#EXERCISE 3"
      ],
      "metadata": {
        "id": "fqzPoY_988Lo"
      }
    },
    {
      "cell_type": "code",
      "source": [
        "cpd_age = TabularCPD(variable='Age', variable_card=3, values=[[0.3], [0.5], [0.2]])\n",
        "cpd_smoking = TabularCPD(variable='Smoking', variable_card=2, values=[[0.4], [0.6]])\n",
        "cpd_exercise = TabularCPD(variable='Exercise', variable_card=2, values=[[0.7], [0.3]])\n",
        "cpd_cholesterol = TabularCPD(variable='Cholesterol', variable_card=2, values=[[0.55], [0.45]])\n",
        "cpd_blood_pressure = TabularCPD(variable='Blood Pressure', variable_card=2, values=[[0.7], [0.3]])\n",
        "\n",
        "cpd_heart_disease = TabularCPD(\n",
        "    variable='Heart Disease', variable_card=2,\n",
        "    values=[\n",
        "        [0.99, 0.9, 0.85, 0.8, 0.75, 0.7, 0.65, 0.6,\n",
        "         0.55, 0.5, 0.45, 0.4, 0.35, 0.3, 0.25, 0.2,\n",
        "         0.15, 0.1, 0.9, 0.85, 0.8, 0.75, 0.7, 0.65,\n",
        "         0.6, 0.55, 0.5, 0.45, 0.4, 0.35, 0.3, 0.25,\n",
        "         0.2, 0.15, 0.1, 0.05, 0.95, 0.9, 0.85, 0.8,\n",
        "         0.75, 0.7, 0.65, 0.6, 0.55, 0.5, 0.45, 0.4],\n",
        "        [0.01, 0.1, 0.15, 0.2, 0.25, 0.3, 0.35, 0.4,\n",
        "         0.45, 0.5, 0.55, 0.6, 0.65, 0.7, 0.75, 0.8,\n",
        "         0.85, 0.9, 0.1, 0.15, 0.2, 0.25, 0.3, 0.35,\n",
        "         0.4, 0.45, 0.5, 0.55, 0.6, 0.65, 0.7, 0.75,\n",
        "         0.8, 0.85, 0.9, 0.95, 0.05, 0.1, 0.15, 0.2,\n",
        "         0.25, 0.3, 0.35, 0.4, 0.45, 0.5, 0.55, 0.6]\n",
        "    ],\n",
        "    evidence=['Age', 'Smoking', 'Exercise', 'Cholesterol', 'Blood Pressure'],\n",
        "    evidence_card=[3, 2, 2, 2, 2]\n",
        ")\n",
        "\n",
        "cpd_chest_pain = TabularCPD(\n",
        "    variable='Chest Pain', variable_card=2,\n",
        "    values=[[0.8, 0.3], [0.2, 0.7]],\n",
        "    evidence=['Heart Disease'], evidence_card=[2]\n",
        ")\n",
        "\n",
        "cpd_ecg_result = TabularCPD(\n",
        "    variable='ECG Result', variable_card=2,\n",
        "    values=[[0.6, 0.1], [0.4, 0.9]],\n",
        "    evidence=['Heart Disease'], evidence_card=[2]\n",
        ")\n",
        "\n",
        "model.add_cpds(cpd_age, cpd_smoking, cpd_exercise, cpd_cholesterol, cpd_blood_pressure, cpd_heart_disease, cpd_chest_pain, cpd_ecg_result)\n",
        "assert model.check_model()"
      ],
      "metadata": {
        "id": "oDcOZbcF8sM0",
        "colab": {
          "base_uri": "https://localhost:8080/"
        },
        "outputId": "6b16938a-21c3-4ee8-e43d-1d1033320f1e"
      },
      "execution_count": 11,
      "outputs": [
        {
          "output_type": "stream",
          "name": "stderr",
          "text": [
            "WARNING:pgmpy:Replacing existing CPD for Age\n",
            "WARNING:pgmpy:Replacing existing CPD for Smoking\n",
            "WARNING:pgmpy:Replacing existing CPD for Exercise\n",
            "WARNING:pgmpy:Replacing existing CPD for Cholesterol\n",
            "WARNING:pgmpy:Replacing existing CPD for Blood Pressure\n",
            "WARNING:pgmpy:Replacing existing CPD for Heart Disease\n",
            "WARNING:pgmpy:Replacing existing CPD for Chest Pain\n",
            "WARNING:pgmpy:Replacing existing CPD for ECG Result\n"
          ]
        }
      ]
    },
    {
      "cell_type": "markdown",
      "source": [
        "#EXERCISE 4"
      ],
      "metadata": {
        "id": "oflQyAWu9soz"
      }
    },
    {
      "cell_type": "code",
      "source": [
        "inference = VariableElimination(model)\n",
        "query_1 = inference.query(variables=['Heart Disease'], evidence={'Age': 1, 'Smoking': 1, 'Cholesterol': 0, 'Blood Pressure': 0})\n",
        "print(query_1)\n",
        "query_2 = inference.query(variables=['ECG Result'], evidence={'Chest Pain': 1})\n",
        "print(query_2)\n",
        "query_3 = inference.query(variables=['Heart Disease'], evidence={'Exercise': 1})\n",
        "print(query_3)"
      ],
      "metadata": {
        "colab": {
          "base_uri": "https://localhost:8080/"
        },
        "id": "CXcv5Qnj906f",
        "outputId": "22f9edaa-7ed9-424e-dc13-08f3f231cd22"
      },
      "execution_count": 7,
      "outputs": [
        {
          "output_type": "stream",
          "name": "stdout",
          "text": [
            "+------------------+----------------------+\n",
            "| Heart Disease    |   phi(Heart Disease) |\n",
            "+==================+======================+\n",
            "| Heart Disease(0) |               0.5400 |\n",
            "+------------------+----------------------+\n",
            "| Heart Disease(1) |               0.4600 |\n",
            "+------------------+----------------------+\n",
            "+---------------+-------------------+\n",
            "| ECG Result    |   phi(ECG Result) |\n",
            "+===============+===================+\n",
            "| ECG Result(0) |            0.2247 |\n",
            "+---------------+-------------------+\n",
            "| ECG Result(1) |            0.7753 |\n",
            "+---------------+-------------------+\n",
            "+------------------+----------------------+\n",
            "| Heart Disease    |   phi(Heart Disease) |\n",
            "+==================+======================+\n",
            "| Heart Disease(0) |               0.5150 |\n",
            "+------------------+----------------------+\n",
            "| Heart Disease(1) |               0.4850 |\n",
            "+------------------+----------------------+\n"
          ]
        }
      ]
    },
    {
      "cell_type": "markdown",
      "source": [
        "#EXERCISE 5"
      ],
      "metadata": {
        "id": "tJ9blqlJ92R0"
      }
    },
    {
      "cell_type": "code",
      "source": [
        "import numpy as np\n",
        "data = pd.DataFrame(np.random.randint(0, 2, size=(1000, 7)), columns=['Age', 'Smoking', 'Exercise', 'Cholesterol', 'Blood Pressure', 'Chest Pain', 'ECG Result'])\n",
        "data['Heart Disease'] = np.where((data['Age'] == 1) & (data['Smoking'] == 1), 1, 0)\n",
        "\n",
        "from pgmpy.estimators import MaximumLikelihoodEstimator\n",
        "model.fit(data, estimator=MaximumLikelihoodEstimator)\n",
        "for cpd in model.get_cpds():\n",
        "    print(cpd)"
      ],
      "metadata": {
        "colab": {
          "base_uri": "https://localhost:8080/"
        },
        "id": "A2Ejy12a93ug",
        "outputId": "2dee6a87-2041-4fbe-ee75-6fa5964c6b49"
      },
      "execution_count": 8,
      "outputs": [
        {
          "output_type": "stream",
          "name": "stderr",
          "text": [
            "WARNING:pgmpy:Replacing existing CPD for Age\n",
            "WARNING:pgmpy:Replacing existing CPD for Heart Disease\n",
            "WARNING:pgmpy:Replacing existing CPD for Smoking\n",
            "WARNING:pgmpy:Replacing existing CPD for Exercise\n",
            "WARNING:pgmpy:Replacing existing CPD for Cholesterol\n",
            "WARNING:pgmpy:Replacing existing CPD for Blood Pressure\n",
            "WARNING:pgmpy:Replacing existing CPD for Chest Pain\n",
            "WARNING:pgmpy:Replacing existing CPD for ECG Result\n"
          ]
        },
        {
          "output_type": "stream",
          "name": "stdout",
          "text": [
            "+--------+-------+\n",
            "| Age(0) | 0.526 |\n",
            "+--------+-------+\n",
            "| Age(1) | 0.474 |\n",
            "+--------+-------+\n",
            "+------------+-------+\n",
            "| Smoking(0) | 0.507 |\n",
            "+------------+-------+\n",
            "| Smoking(1) | 0.493 |\n",
            "+------------+-------+\n",
            "+-------------+-------+\n",
            "| Exercise(0) | 0.455 |\n",
            "+-------------+-------+\n",
            "| Exercise(1) | 0.545 |\n",
            "+-------------+-------+\n",
            "+----------------+-------+\n",
            "| Cholesterol(0) | 0.507 |\n",
            "+----------------+-------+\n",
            "| Cholesterol(1) | 0.493 |\n",
            "+----------------+-------+\n",
            "+-------------------+-------+\n",
            "| Blood Pressure(0) | 0.508 |\n",
            "+-------------------+-------+\n",
            "| Blood Pressure(1) | 0.492 |\n",
            "+-------------------+-------+\n",
            "+------------------+-------------------+-----+-------------------+-------------------+\n",
            "| Age              | Age(0)            | ... | Age(1)            | Age(1)            |\n",
            "+------------------+-------------------+-----+-------------------+-------------------+\n",
            "| Blood Pressure   | Blood Pressure(0) | ... | Blood Pressure(1) | Blood Pressure(1) |\n",
            "+------------------+-------------------+-----+-------------------+-------------------+\n",
            "| Cholesterol      | Cholesterol(0)    | ... | Cholesterol(1)    | Cholesterol(1)    |\n",
            "+------------------+-------------------+-----+-------------------+-------------------+\n",
            "| Exercise         | Exercise(0)       | ... | Exercise(1)       | Exercise(1)       |\n",
            "+------------------+-------------------+-----+-------------------+-------------------+\n",
            "| Smoking          | Smoking(0)        | ... | Smoking(0)        | Smoking(1)        |\n",
            "+------------------+-------------------+-----+-------------------+-------------------+\n",
            "| Heart Disease(0) | 1.0               | ... | 1.0               | 0.0               |\n",
            "+------------------+-------------------+-----+-------------------+-------------------+\n",
            "| Heart Disease(1) | 0.0               | ... | 0.0               | 1.0               |\n",
            "+------------------+-------------------+-----+-------------------+-------------------+\n",
            "+---------------+--------------------+--------------------+\n",
            "| Heart Disease | Heart Disease(0)   | Heart Disease(1)   |\n",
            "+---------------+--------------------+--------------------+\n",
            "| Chest Pain(0) | 0.4852374839537869 | 0.5248868778280543 |\n",
            "+---------------+--------------------+--------------------+\n",
            "| Chest Pain(1) | 0.5147625160462131 | 0.4751131221719457 |\n",
            "+---------------+--------------------+--------------------+\n",
            "+---------------+---------------------+--------------------+\n",
            "| Heart Disease | Heart Disease(0)    | Heart Disease(1)   |\n",
            "+---------------+---------------------+--------------------+\n",
            "| ECG Result(0) | 0.5083440308087291  | 0.5746606334841629 |\n",
            "+---------------+---------------------+--------------------+\n",
            "| ECG Result(1) | 0.49165596919127086 | 0.4253393665158371 |\n",
            "+---------------+---------------------+--------------------+\n"
          ]
        }
      ]
    },
    {
      "cell_type": "markdown",
      "source": [
        "#EXERCISE 6"
      ],
      "metadata": {
        "id": "aeeCfAz098J3"
      }
    },
    {
      "cell_type": "code",
      "source": [
        "nx_graph = nx.DiGraph()\n",
        "nx_graph.add_edges_from(model.edges())\n",
        "\n",
        "pos = nx.spring_layout(nx_graph)\n",
        "nx.draw(nx_graph, pos, with_labels=True, node_size=2000, node_color='skyblue', font_size=10, font_color='black', font_weight='bold')\n",
        "plt.show()"
      ],
      "metadata": {
        "colab": {
          "base_uri": "https://localhost:8080/",
          "height": 516
        },
        "id": "U_XhKUkX971t",
        "outputId": "90ab7eb7-257c-4068-c3b1-c4efb6dd0c00"
      },
      "execution_count": 9,
      "outputs": [
        {
          "output_type": "display_data",
          "data": {
            "text/plain": [
              "<Figure size 640x480 with 1 Axes>"
            ],
            "image/png": "[encoded data removed]"
          },
          "metadata": {}
        }
      ]
    }
  ]
}