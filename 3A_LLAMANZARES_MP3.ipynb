{
  "nbformat": 4,
  "nbformat_minor": 0,
  "metadata": {
    "colab": {
      "provenance": []
    },
    "kernelspec": {
      "name": "python3",
      "display_name": "Python 3"
    },
    "language_info": {
      "name": "python"
    }
  },
  "cells": [
    {
      "cell_type": "code",
      "execution_count": 1,
      "metadata": {
        "id": "0a6DhAB2SXcZ"
      },
      "outputs": [],
      "source": [
        "import numpy as np\n",
        "import matplotlib.pyplot as plt\n",
        "from scipy.stats import binom, norm"
      ]
    },
    {
      "cell_type": "code",
      "source": [
        "def joint_prob(p_A, p_B):\n",
        "  return p_A * p_B\n",
        "def marginal_prob(p_A, p_B):\n",
        "  return p_A + p_B - joint_prob(p_A, p_B)\n",
        "def conditional_prob(p_B_given_A, p_A, p_B):\n",
        "  return (p_B_given_A * p_A) / p_B\n",
        "def bayesian_inf(a, b, c):\n",
        "  result = (b * a) / c\n",
        "  return result"
      ],
      "metadata": {
        "id": "j64PYwavSxkR"
      },
      "execution_count": 4,
      "outputs": []
    },
    {
      "cell_type": "markdown",
      "source": [
        "#PART 1"
      ],
      "metadata": {
        "id": "lrMh_GO7SZ6I"
      }
    },
    {
      "cell_type": "code",
      "source": [
        "def part1():\n",
        "    print(\"Part 1: Implement Basic Probability Calculations\")\n",
        "    prob_a = float(input(\"Enter probability of event A: \"))\n",
        "    prob_b = float(input(\"Enter probability of event B: \"))\n",
        "    prob_b_a = float(input(\"Enter probability of B given A: \"))\n",
        "\n",
        "    print(\"Joint Probability: \", joint_prob(prob_a, prob_b))\n",
        "    print(\"Marginal Probability: \", marginal_prob(prob_a,prob_b))\n",
        "    print(\"Conditional Probability: \", conditional_prob(prob_b_a,prob_a,prob_b))\n",
        "\n",
        "part1()"
      ],
      "metadata": {
        "colab": {
          "base_uri": "https://localhost:8080/"
        },
        "id": "LjYTCO19SZZw",
        "outputId": "e9020a57-823f-4836-e3eb-c46e263cd554"
      },
      "execution_count": 5,
      "outputs": [
        {
          "output_type": "stream",
          "name": "stdout",
          "text": [
            "Part 1: Implement Basic Probability Calculations\n",
            "Enter probability of event A: 20\n",
            "Enter probability of event B: 30\n",
            "Enter probability of B given A: 40\n",
            "Joint Probability:  600.0\n",
            "Marginal Probability:  -550.0\n",
            "Conditional Probability:  26.666666666666668\n"
          ]
        }
      ]
    },
    {
      "cell_type": "markdown",
      "source": [
        "#PART 2"
      ],
      "metadata": {
        "id": "a8nquKr6TEkj"
      }
    },
    {
      "cell_type": "code",
      "source": [
        "def part2():\n",
        "    print(\"Part 2: Bayesian Inference for Real-World Scenarios\")\n",
        "    prob_disease = float(input(\"Enter the prior probability of disease: \"))\n",
        "    like_pos_giv_disease = float(input(\"Enter the likelihood of a positive test given disease: \" ))\n",
        "    like_positive = float(input(\"Enter the overall probability of a positive test: \"))\n",
        "\n",
        "    print(\"Posterior Probability of disease given positive test: \", bayesian_inf(prob_disease,like_pos_giv_disease,like_positive))\n",
        "\n",
        "part2()"
      ],
      "metadata": {
        "colab": {
          "base_uri": "https://localhost:8080/"
        },
        "id": "fHRNnJEoSc22",
        "outputId": "73849407-a392-465c-b0c5-49a5c256c62a"
      },
      "execution_count": 6,
      "outputs": [
        {
          "output_type": "stream",
          "name": "stdout",
          "text": [
            "Part 2: Bayesian Inference for Real-World Scenarios\n",
            "Enter the prior probability of disease: 20\n",
            "Enter the likelihood of a positive test given disease: 50\n",
            "Enter the overall probability of a positive test: 30\n",
            "Posterior Probability of disease given positive test:  33.333333333333336\n"
          ]
        }
      ]
    },
    {
      "cell_type": "markdown",
      "source": [
        "# PART 3"
      ],
      "metadata": {
        "id": "oXppPsvoUXsY"
      }
    },
    {
      "cell_type": "code",
      "source": [
        "def part3():\n",
        "    print(\"Part 3: Simulate Decision-Making Under Uncertainty\")\n",
        "    p_sucess = float(input('Enter the probability of success: '))\n",
        "    reward_sucess = float(input(\"Enter the reward for success: \"))\n",
        "    reward_failure = float(input(\"Enter the penalty for failure: \"))\n",
        "    num_sim = int(input(\"Enter the number of Simulation: \"))\n",
        "    outcome = []\n",
        "    for i in range(num_sim):\n",
        "        if np.random.rand() < p_sucess:\n",
        "            outcome.append(reward_sucess)\n",
        "        else:\n",
        "            outcome.append(reward_failure)\n",
        "    result = np.mean(outcome)\n",
        "    return f\"Decision's Expected Value: {result}\"\n",
        "part3()"
      ],
      "metadata": {
        "colab": {
          "base_uri": "https://localhost:8080/",
          "height": 126
        },
        "id": "McWPg4p6S4WE",
        "outputId": "e739ebe7-082c-4798-85ae-1b190e6241df"
      },
      "execution_count": 7,
      "outputs": [
        {
          "name": "stdout",
          "output_type": "stream",
          "text": [
            "Part 3: Simulate Decision-Making Under Uncertainty\n",
            "Enter the probability of success: 20\n",
            "Enter the reward for success: 30\n",
            "Enter the penalty for failure: 50\n",
            "Enter the number of Simulation: 10\n"
          ]
        },
        {
          "output_type": "execute_result",
          "data": {
            "text/plain": [
              "\"Decision's Expected Value: 30.0\""
            ],
            "application/vnd.google.colaboratory.intrinsic+json": {
              "type": "string"
            }
          },
          "metadata": {},
          "execution_count": 7
        }
      ]
    },
    {
      "cell_type": "markdown",
      "source": [
        "# PART 4"
      ],
      "metadata": {
        "id": "V6xf0OrPUaCh"
      }
    },
    {
      "cell_type": "code",
      "source": [
        "import numpy as np\n",
        "import matplotlib.pyplot as plt\n",
        "from scipy.stats import norm\n",
        "\n",
        "def part4():\n",
        "    print(\"Choose a distribution to simulate:\")\n",
        "    print(\"1. Binomial (Coin flips)\")\n",
        "    print(\"2. Normal (Exam scores)\")\n",
        "    simulation = int(input())\n",
        "\n",
        "    if simulation == 1:\n",
        "        num_trials = int(input(\"Enter the number of trials: \"))\n",
        "        prob_head = float(input(\"Enter the probability of heads (0 to 1): \"))\n",
        "\n",
        "        if not (0 <= prob_head <= 1):\n",
        "            print(\"Probability must be between 0 and 1.\")\n",
        "            return\n",
        "\n",
        "        binomial_distribution = np.random.binomial(n=num_trials, p=prob_head, size=1000)\n",
        "\n",
        "        plt.hist(binomial_distribution, bins=10)\n",
        "        plt.title(\"Binomial Distribution (Coin flips)\")\n",
        "        plt.xlabel(\"Number of Heads\")\n",
        "        plt.ylabel(\"Frequency\")\n",
        "        plt.show()\n",
        "\n",
        "    elif simulation == 2:\n",
        "        mean = float(input(\"Enter the mean score: \"))\n",
        "        std = float(input(\"Enter the standard deviation of the scores: \"))\n",
        "\n",
        "        if std <= 0:\n",
        "            print(\"Standard deviation must be positive.\")\n",
        "            return\n",
        "\n",
        "        x = np.linspace(mean - 4*std, mean + 4*std, 1000)\n",
        "        normal_dist = norm.pdf(x, mean, std)\n",
        "\n",
        "        plt.plot(x, normal_dist)\n",
        "        plt.title(\"Normal Distribution (Exam Scores)\")\n",
        "        plt.xlabel(\"Score\")\n",
        "        plt.ylabel(\"Probability Density\")\n",
        "        plt.show()\n",
        "\n",
        "    else:\n",
        "        print(\"Invalid Input\")\n",
        "\n",
        "part4()"
      ],
      "metadata": {
        "colab": {
          "base_uri": "https://localhost:8080/",
          "height": 581
        },
        "id": "ALzkkV2QVDJR",
        "outputId": "3fdcb0ff-7a78-4ba5-ae2b-02153c3b61da"
      },
      "execution_count": 11,
      "outputs": [
        {
          "name": "stdout",
          "output_type": "stream",
          "text": [
            "Choose a distribution to simulate:\n",
            "1. Binomial (Coin flips)\n",
            "2. Normal (Exam scores)\n",
            "1\n",
            "Enter the number of trials: 4\n",
            "Enter the probability of heads (0 to 1): 1\n"
          ]
        },
        {
          "output_type": "display_data",
          "data": {
            "text/plain": [
              "<Figure size 640x480 with 1 Axes>"
            ],
            "image/png": "[encoded data removed]"
          },
          "metadata": {}
        }
      ]
    },
    {
      "cell_type": "markdown",
      "source": [
        "# PART 5"
      ],
      "metadata": {
        "id": "rnwCkW2vatj4"
      }
    },
    {
      "cell_type": "code",
      "source": [
        "def part5():\n",
        "    humidity = float(input(\"Input humidity level (from 0 to 1): \"))\n",
        "    cloud_cover = float(input(\"Input cloud cover level (from 0 to 1): \"))\n",
        "\n",
        "    rain_probability = humidity * cloud_cover\n",
        "    return f\"Chance of Rain: {rain_probability}\"\n",
        "\n",
        "part5()"
      ],
      "metadata": {
        "colab": {
          "base_uri": "https://localhost:8080/",
          "height": 72
        },
        "id": "mVOC903fZnVo",
        "outputId": "3e3a2008-b09a-41ce-933b-92b1a67c67ea"
      },
      "execution_count": 12,
      "outputs": [
        {
          "name": "stdout",
          "output_type": "stream",
          "text": [
            "Input humidity level (from 0 to 1): 1\n",
            "Input cloud cover level (from 0 to 1): 1\n"
          ]
        },
        {
          "output_type": "execute_result",
          "data": {
            "text/plain": [
              "'Chance of Rain: 1.0'"
            ],
            "application/vnd.google.colaboratory.intrinsic+json": {
              "type": "string"
            }
          },
          "metadata": {},
          "execution_count": 12
        }
      ]
    }
  ]
}