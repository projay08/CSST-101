{
  "nbformat": 4,
  "nbformat_minor": 0,
  "metadata": {
    "colab": {
      "provenance": []
    },
    "kernelspec": {
      "name": "python3",
      "display_name": "Python 3"
    },
    "language_info": {
      "name": "python"
    }
  },
  "cells": [
    {
      "cell_type": "markdown",
      "source": [
        "Exercise 1: Propositional Logic in Python\n"
      ],
      "metadata": {
        "id": "jEnpsKdlkiVn"
      }
    },
    {
      "cell_type": "code",
      "execution_count": null,
      "metadata": {
        "id": "EiXp8MImjlr2"
      },
      "outputs": [],
      "source": [
        "def is_raining():\n",
        "    return True\n",
        "\n",
        "def is_ground_wet(raining):\n",
        "    if raining:\n",
        "        return True\n",
        "    return False\n",
        "\n",
        "def will_match_light(ground_wet):\n",
        "    if ground_wet:\n",
        "        return False\n",
        "    return True\n",
        "\n",
        "\n",
        "raining = is_raining()\n",
        "ground_wet = is_ground_wet(raining)\n",
        "match_lights = will_match_light(ground_wet)\n",
        "\n",
        "print(\"Is it raining?\", raining)\n",
        "print(\"Is the ground wet?\", ground_wet)\n",
        "print(\"Will the match light?\", match_lights)"
      ]
    },
    {
      "cell_type": "markdown",
      "source": [
        "Exercise 2: Predicate Logic Representation"
      ],
      "metadata": {
        "id": "Qr_SWGbMkqjq"
      }
    },
    {
      "cell_type": "code",
      "source": [
        "def is_human(entity):\n",
        "    return entity == \"Socrates\"\n",
        "\n",
        "def is_mortal(entity):\n",
        "    if is_human(entity):\n",
        "        return True\n",
        "    return False\n",
        "\n",
        "\n",
        "entity = \"Socrates\"\n",
        "socrates_mortal = is_mortal(entity)\n",
        "\n",
        "print(f\"Is {entity} mortal?\", socrates_mortal)"
      ],
      "metadata": {
        "id": "7kEJKElJkmJj"
      },
      "execution_count": null,
      "outputs": []
    },
    {
      "cell_type": "markdown",
      "source": [
        "Exercise 3: Inference Techniques in Logic-Based Systems"
      ],
      "metadata": {
        "id": "30hvT_b4k8-m"
      }
    },
    {
      "cell_type": "code",
      "source": [
        "def apply_modus_ponens(rules, facts):\n",
        "    conclusions = set()\n",
        "\n",
        "    for rule in rules:\n",
        "        antecedent, consequent = rule\n",
        "        if antecedent in facts:\n",
        "            conclusions.add(consequent)\n",
        "\n",
        "    return conclusions\n",
        "\n",
        "rules = [\n",
        "    (\"It rains\", \"The ground is wet\"),\n",
        "    (\"The ground is wet\", \"The match will not light\"),\n",
        "    (\"It is sunny\", \"The ground is dry\"),\n",
        "]\n",
        "\n",
        "\n",
        "facts = {\"It rains\"}\n",
        "\n",
        "conclusions = apply_modus_ponens(rules, facts)\n",
        "\n",
        "print(\"Facts:\", facts)\n",
        "print(\"Conclusions after applying Modus Ponens:\", conclusions)\n",
        "\n",
        "new_facts = facts.union(conclusions)\n",
        "new_conclusions = apply_modus_ponens(rules, new_facts)\n",
        "\n",
        "print(\"New Conclusions after second inference:\", new_conclusions)"
      ],
      "metadata": {
        "id": "z_U_JbK1k9x3"
      },
      "execution_count": null,
      "outputs": []
    },
    {
      "cell_type": "markdown",
      "source": [
        "Exercise 4: Hands-on Lab - Implementing a Logic-Based Model in Python"
      ],
      "metadata": {
        "id": "9Ef_25-qlJ0f"
      }
    },
    {
      "cell_type": "code",
      "source": [
        "def is_hungry(person):\n",
        "    return person == \"John\"\n",
        "\n",
        "def will_eat(hungry):\n",
        "    if hungry:\n",
        "        return True\n",
        "    return False\n",
        "\n",
        "def no_longer_hungry(ate):\n",
        "    if ate:\n",
        "        return True\n",
        "    return False\n",
        "\n",
        "\n",
        "person = \"John\"\n",
        "hungry = is_hungry(person)\n",
        "ate = will_eat(hungry)\n",
        "not_hungry = no_longer_hungry(ate)\n",
        "\n",
        "print(f\"Is {person} hungry? {hungry}\")\n",
        "print(f\"Did {person} eat? {ate}\")\n",
        "print(f\"Is {person} no longer hungry? {not_hungry}\")"
      ],
      "metadata": {
        "id": "B1prhxiSlKIy"
      },
      "execution_count": null,
      "outputs": []
    }
  ]
}